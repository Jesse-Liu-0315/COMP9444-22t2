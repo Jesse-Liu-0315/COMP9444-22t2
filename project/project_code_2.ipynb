{
 "cells": [
  {
   "cell_type": "code",
   "execution_count": 3,
   "metadata": {},
   "outputs": [
    {
     "name": "stdout",
     "output_type": "stream",
     "text": [
      "1.12.0+cu116\n",
      "0.13.0+cu116\n",
      "cuda\n"
     ]
    }
   ],
   "source": [
    "import os\n",
    "import numpy as np\n",
    "import torch\n",
    "from torch import nn, optim\n",
    "import torch.nn.functional as F\n",
    "import torch.backends.cudnn as cudnn\n",
    "import torchvision\n",
    "import torchvision.transforms as transforms\n",
    "import matplotlib.pyplot as plt\n",
    "import sys\n",
    "device = torch.device('cuda' if torch.cuda.is_available() else 'cpu')\n",
    "print(torch.__version__)\n",
    "print(torchvision.__version__)\n",
    "print(device)"
   ]
  },
  {
   "cell_type": "code",
   "execution_count": 4,
   "metadata": {},
   "outputs": [],
   "source": [
    "# for download\n",
    "import ssl\n",
    "ssl._create_default_https_context = ssl._create_unverified_context"
   ]
  },
  {
   "cell_type": "code",
   "execution_count": 5,
   "metadata": {},
   "outputs": [
    {
     "name": "stdout",
     "output_type": "stream",
     "text": [
      "Downloading https://www.cs.toronto.edu/~kriz/cifar-10-python.tar.gz to ./data\\cifar-10-python.tar.gz\n"
     ]
    },
    {
     "name": "stderr",
     "output_type": "stream",
     "text": [
      "100.0%\n"
     ]
    },
    {
     "name": "stdout",
     "output_type": "stream",
     "text": [
      "Extracting ./data\\cifar-10-python.tar.gz to ./data\n",
      "(0.49139967861519607, 0.48215840839460783, 0.44653091444546567) (0.24703223246328176, 0.24348512800005648, 0.26158784172796473)\n"
     ]
    }
   ],
   "source": [
    "# Calculate the Normalization value for dataset\n",
    "train_transform_norm = transforms.Compose([transforms.ToTensor()])\n",
    "trainset_norm = torchvision.datasets.CIFAR10(root='./data', train=True, download=True, transform=train_transform_norm)\n",
    "data = trainset_norm.data\n",
    "mean_value = tuple(data.mean(axis=(0,1,2))/255)\n",
    "std_value = tuple(data.std(axis=(0,1,2))/255)\n",
    "print(mean_value, std_value)"
   ]
  },
  {
   "cell_type": "code",
   "execution_count": 6,
   "metadata": {},
   "outputs": [],
   "source": [
    "# define transform for cifar10\n",
    "train_transform = transforms.Compose([\n",
    "transforms.RandomCrop(32, padding=4),\n",
    "transforms.RandomRotation((10,20)),\n",
    "transforms.ColorJitter(brightness=0.5,contrast=0.5,saturation=0.5,hue=0.5),\n",
    "transforms.RandomHorizontalFlip(),\n",
    "transforms.ToTensor(),\n",
    "transforms.Normalize(mean_value, std_value),\n",
    "])\n",
    "test_transform = transforms.Compose([\n",
    "transforms.ToTensor(),\n",
    "transforms.Normalize(mean_value, std_value),\n",
    "])"
   ]
  },
  {
   "cell_type": "code",
   "execution_count": 7,
   "metadata": {},
   "outputs": [
    {
     "name": "stdout",
     "output_type": "stream",
     "text": [
      "Files already downloaded and verified\n",
      "Files already downloaded and verified\n"
     ]
    }
   ],
   "source": [
    "# load train and test data\n",
    "trainset = torchvision.datasets.CIFAR10(root='./data', train=True, download=True, transform=train_transform)\n",
    "testset = torchvision.datasets.CIFAR10(root='./data', train=False, download=True, transform=test_transform)\n",
    "\n",
    "batch_size=32\n",
    "train_iter = torch.utils.data.DataLoader(trainset, batch_size=batch_size, shuffle=True, num_workers=2)\n",
    "test_iter = torch.utils.data.DataLoader(testset, batch_size=batch_size, shuffle=False, num_workers=2)\n"
   ]
  },
  {
   "cell_type": "code",
   "execution_count": 8,
   "metadata": {},
   "outputs": [
    {
     "name": "stdout",
     "output_type": "stream",
     "text": [
      "ResNet(\n",
      "  (conv1): Sequential(\n",
      "    (0): Conv2d(3, 64, kernel_size=(3, 3), stride=(3, 3), padding=(1, 1), bias=False)\n",
      "    (1): BatchNorm2d(64, eps=1e-05, momentum=0.1, affine=True, track_running_stats=True)\n",
      "    (2): ReLU()\n",
      "  )\n",
      "  (conv2): Sequential(\n",
      "    (0): ResidualBlock(\n",
      "      (conv1): Conv2d(64, 64, kernel_size=(3, 3), stride=(1, 1), padding=(1, 1), bias=False)\n",
      "      (bn1): BatchNorm2d(64, eps=1e-05, momentum=0.1, affine=True, track_running_stats=True)\n",
      "      (conv2): Conv2d(64, 64, kernel_size=(3, 3), stride=(1, 1), padding=(1, 1), bias=False)\n",
      "      (bn2): BatchNorm2d(64, eps=1e-05, momentum=0.1, affine=True, track_running_stats=True)\n",
      "      (highway): Sequential()\n",
      "    )\n",
      "    (1): ResidualBlock(\n",
      "      (conv1): Conv2d(64, 64, kernel_size=(3, 3), stride=(1, 1), padding=(1, 1), bias=False)\n",
      "      (bn1): BatchNorm2d(64, eps=1e-05, momentum=0.1, affine=True, track_running_stats=True)\n",
      "      (conv2): Conv2d(64, 64, kernel_size=(3, 3), stride=(1, 1), padding=(1, 1), bias=False)\n",
      "      (bn2): BatchNorm2d(64, eps=1e-05, momentum=0.1, affine=True, track_running_stats=True)\n",
      "      (highway): Sequential()\n",
      "    )\n",
      "  )\n",
      "  (conv3): Sequential(\n",
      "    (0): ResidualBlock(\n",
      "      (conv1): Conv2d(64, 128, kernel_size=(3, 3), stride=(2, 2), padding=(1, 1), bias=False)\n",
      "      (bn1): BatchNorm2d(128, eps=1e-05, momentum=0.1, affine=True, track_running_stats=True)\n",
      "      (conv2): Conv2d(128, 128, kernel_size=(3, 3), stride=(1, 1), padding=(1, 1), bias=False)\n",
      "      (bn2): BatchNorm2d(128, eps=1e-05, momentum=0.1, affine=True, track_running_stats=True)\n",
      "      (highway): Sequential(\n",
      "        (0): Conv2d(64, 128, kernel_size=(1, 1), stride=(2, 2), bias=False)\n",
      "        (1): BatchNorm2d(128, eps=1e-05, momentum=0.1, affine=True, track_running_stats=True)\n",
      "      )\n",
      "    )\n",
      "    (1): ResidualBlock(\n",
      "      (conv1): Conv2d(128, 128, kernel_size=(3, 3), stride=(1, 1), padding=(1, 1), bias=False)\n",
      "      (bn1): BatchNorm2d(128, eps=1e-05, momentum=0.1, affine=True, track_running_stats=True)\n",
      "      (conv2): Conv2d(128, 128, kernel_size=(3, 3), stride=(1, 1), padding=(1, 1), bias=False)\n",
      "      (bn2): BatchNorm2d(128, eps=1e-05, momentum=0.1, affine=True, track_running_stats=True)\n",
      "      (highway): Sequential()\n",
      "    )\n",
      "  )\n",
      "  (conv4): Sequential(\n",
      "    (0): ResidualBlock(\n",
      "      (conv1): Conv2d(128, 256, kernel_size=(3, 3), stride=(2, 2), padding=(1, 1), bias=False)\n",
      "      (bn1): BatchNorm2d(256, eps=1e-05, momentum=0.1, affine=True, track_running_stats=True)\n",
      "      (conv2): Conv2d(256, 256, kernel_size=(3, 3), stride=(1, 1), padding=(1, 1), bias=False)\n",
      "      (bn2): BatchNorm2d(256, eps=1e-05, momentum=0.1, affine=True, track_running_stats=True)\n",
      "      (highway): Sequential(\n",
      "        (0): Conv2d(128, 256, kernel_size=(1, 1), stride=(2, 2), bias=False)\n",
      "        (1): BatchNorm2d(256, eps=1e-05, momentum=0.1, affine=True, track_running_stats=True)\n",
      "      )\n",
      "    )\n",
      "    (1): ResidualBlock(\n",
      "      (conv1): Conv2d(256, 256, kernel_size=(3, 3), stride=(1, 1), padding=(1, 1), bias=False)\n",
      "      (bn1): BatchNorm2d(256, eps=1e-05, momentum=0.1, affine=True, track_running_stats=True)\n",
      "      (conv2): Conv2d(256, 256, kernel_size=(3, 3), stride=(1, 1), padding=(1, 1), bias=False)\n",
      "      (bn2): BatchNorm2d(256, eps=1e-05, momentum=0.1, affine=True, track_running_stats=True)\n",
      "      (highway): Sequential()\n",
      "    )\n",
      "  )\n",
      "  (conv5): Sequential(\n",
      "    (0): ResidualBlock(\n",
      "      (conv1): Conv2d(256, 512, kernel_size=(3, 3), stride=(2, 2), padding=(1, 1), bias=False)\n",
      "      (bn1): BatchNorm2d(512, eps=1e-05, momentum=0.1, affine=True, track_running_stats=True)\n",
      "      (conv2): Conv2d(512, 512, kernel_size=(3, 3), stride=(1, 1), padding=(1, 1), bias=False)\n",
      "      (bn2): BatchNorm2d(512, eps=1e-05, momentum=0.1, affine=True, track_running_stats=True)\n",
      "      (highway): Sequential(\n",
      "        (0): Conv2d(256, 512, kernel_size=(1, 1), stride=(2, 2), bias=False)\n",
      "        (1): BatchNorm2d(512, eps=1e-05, momentum=0.1, affine=True, track_running_stats=True)\n",
      "      )\n",
      "    )\n",
      "    (1): ResidualBlock(\n",
      "      (conv1): Conv2d(512, 512, kernel_size=(3, 3), stride=(1, 1), padding=(1, 1), bias=False)\n",
      "      (bn1): BatchNorm2d(512, eps=1e-05, momentum=0.1, affine=True, track_running_stats=True)\n",
      "      (conv2): Conv2d(512, 512, kernel_size=(3, 3), stride=(1, 1), padding=(1, 1), bias=False)\n",
      "      (bn2): BatchNorm2d(512, eps=1e-05, momentum=0.1, affine=True, track_running_stats=True)\n",
      "      (highway): Sequential()\n",
      "    )\n",
      "  )\n",
      "  (avg_pool): AdaptiveAvgPool2d(output_size=(1, 1))\n",
      "  (fc): Linear(in_features=512, out_features=10, bias=True)\n",
      ")\n"
     ]
    }
   ],
   "source": [
    "# build the resnet18 model\n",
    "class ResidualBlock(nn.Module):\n",
    "    expansion = 1\n",
    "    def __init__(self, channel_in, channel_out, stride=1):\n",
    "        super(ResidualBlock, self).__init__()\n",
    "        \n",
    "        self.conv1 = nn.Conv2d(channel_in, channel_out, kernel_size=3, stride=stride, padding=1, bias=False)\n",
    "        self.bn1 = nn.BatchNorm2d(channel_out)\n",
    "        self.conv2 = nn.Conv2d(channel_out, channel_out, kernel_size=3, stride=1, padding=1, bias=False)\n",
    "        self.bn2 = nn.BatchNorm2d(channel_out)\n",
    "        \n",
    "        self.highway = nn.Sequential()\n",
    "        if stride != 1 or channel_in != channel_out:\n",
    "            self.highway = nn.Sequential(\n",
    "                nn.Conv2d(channel_in, channel_out, kernel_size=1, stride=stride, bias=False),\n",
    "                nn.BatchNorm2d(channel_out)\n",
    "            )\n",
    "            \n",
    "    def forward(self, x):\n",
    "        output = F.relu(self.bn1(self.conv1(x)))\n",
    "        output = self.bn2(self.conv2(output))\n",
    "        output = output + self.highway(x)\n",
    "        output = F.relu(output)\n",
    "        return output\n",
    "    \n",
    "\n",
    "class ResNet(nn.Module):\n",
    "    def __init__(self, ResidualBlock,channel_in=64,num_classes=10):\n",
    "        super(ResNet, self).__init__()\n",
    "        self.channel_in = channel_in\n",
    "        self.conv1 = nn.Sequential(nn.Conv2d(3, 64, kernel_size=3, stride=3, padding=1, bias=False),nn.BatchNorm2d(64),nn.ReLU())     \n",
    "        self.conv2 = self.make_layer(ResidualBlock, 64, 2, 1)\n",
    "        self.conv3 = self.make_layer(ResidualBlock, 128, 2, 2)\n",
    "        self.conv4 = self.make_layer(ResidualBlock, 256, 2, 2)\n",
    "        self.conv5 = self.make_layer(ResidualBlock, 512, 2, 2)\n",
    "        self.avg_pool = nn.AdaptiveAvgPool2d((1, 1))\n",
    "        self.fc = nn.Linear(512 * ResidualBlock.expansion, num_classes)\n",
    "\n",
    "    def make_layer(self, block, channels, num_blocks, stride):\n",
    "        strides = [stride] + [1] * (num_blocks - 1)\n",
    "        layers = []\n",
    "        for stride in strides:\n",
    "            layers.append(block(self.channel_in, channels, stride))\n",
    "            self.channel_in = channels * block.expansion\n",
    "        return nn.Sequential(*layers)\n",
    "    \n",
    "    \n",
    "    def forward(self, x):\n",
    "        output = self.conv1(x)\n",
    "        output = self.conv2(output)\n",
    "        output = self.conv3(output)\n",
    "        output = self.conv4(output)\n",
    "        output = self.conv5(output)\n",
    "        output = self.avg_pool(output)\n",
    "        output = output.view(output.size(0), -1)\n",
    "        output = self.fc(output)\n",
    "        return output\n",
    "\n",
    "net = ResNet(ResidualBlock)\n",
    "print(net)"
   ]
  },
  {
   "cell_type": "code",
   "execution_count": 9,
   "metadata": {},
   "outputs": [
    {
     "name": "stdout",
     "output_type": "stream",
     "text": [
      "The training device is:  cuda\n",
      "Model: resnet18\n",
      "Epoch: 1, Loss: 2.1521, Train accuracy 0.199, Test accuracy 0.307\n",
      "Epoch: 2, Loss: 0.9049, Train accuracy 0.332, Test accuracy 0.373\n",
      "Epoch: 3, Loss: 0.5442, Train accuracy 0.407, Test accuracy 0.442\n",
      "Epoch: 4, Loss: 0.3771, Train accuracy 0.456, Test accuracy 0.486\n",
      "Epoch: 5, Loss: 0.2799, Train accuracy 0.498, Test accuracy 0.529\n",
      "Epoch: 6, Loss: 0.2193, Train accuracy 0.530, Test accuracy 0.560\n",
      "Epoch: 7, Loss: 0.1765, Train accuracy 0.561, Test accuracy 0.563\n",
      "Epoch: 8, Loss: 0.1475, Train accuracy 0.586, Test accuracy 0.602\n",
      "Epoch: 9, Loss: 0.1251, Train accuracy 0.604, Test accuracy 0.612\n",
      "Epoch: 10, Loss: 0.1082, Train accuracy 0.622, Test accuracy 0.630\n",
      "Epoch: 11, Loss: 0.0948, Train accuracy 0.634, Test accuracy 0.639\n",
      "Epoch: 12, Loss: 0.0838, Train accuracy 0.651, Test accuracy 0.650\n",
      "Epoch: 13, Loss: 0.0749, Train accuracy 0.662, Test accuracy 0.652\n",
      "Epoch: 14, Loss: 0.0677, Train accuracy 0.671, Test accuracy 0.648\n",
      "Epoch: 15, Loss: 0.0611, Train accuracy 0.682, Test accuracy 0.668\n",
      "Epoch: 16, Loss: 0.0565, Train accuracy 0.687, Test accuracy 0.668\n",
      "Epoch: 17, Loss: 0.0516, Train accuracy 0.696, Test accuracy 0.664\n",
      "Epoch: 18, Loss: 0.0472, Train accuracy 0.705, Test accuracy 0.684\n",
      "Epoch: 19, Loss: 0.0440, Train accuracy 0.711, Test accuracy 0.675\n",
      "Epoch: 20, Loss: 0.0413, Train accuracy 0.715, Test accuracy 0.686\n",
      "Epoch: 21, Loss: 0.0385, Train accuracy 0.721, Test accuracy 0.693\n",
      "Epoch: 22, Loss: 0.0361, Train accuracy 0.727, Test accuracy 0.709\n",
      "Epoch: 23, Loss: 0.0339, Train accuracy 0.729, Test accuracy 0.685\n",
      "Epoch: 24, Loss: 0.0319, Train accuracy 0.734, Test accuracy 0.693\n",
      "Epoch: 25, Loss: 0.0298, Train accuracy 0.742, Test accuracy 0.713\n",
      "Epoch: 26, Loss: 0.0281, Train accuracy 0.747, Test accuracy 0.709\n",
      "Epoch: 27, Loss: 0.0268, Train accuracy 0.747, Test accuracy 0.690\n",
      "Epoch: 28, Loss: 0.0255, Train accuracy 0.754, Test accuracy 0.718\n",
      "Epoch: 29, Loss: 0.0242, Train accuracy 0.756, Test accuracy 0.697\n",
      "Epoch: 30, Loss: 0.0233, Train accuracy 0.761, Test accuracy 0.694\n",
      "Epoch: 31, Loss: 0.0221, Train accuracy 0.762, Test accuracy 0.707\n",
      "Epoch: 32, Loss: 0.0210, Train accuracy 0.767, Test accuracy 0.712\n",
      "Epoch: 33, Loss: 0.0203, Train accuracy 0.769, Test accuracy 0.720\n",
      "Epoch: 34, Loss: 0.0193, Train accuracy 0.775, Test accuracy 0.717\n",
      "Epoch: 35, Loss: 0.0185, Train accuracy 0.777, Test accuracy 0.731\n",
      "Epoch: 36, Loss: 0.0178, Train accuracy 0.780, Test accuracy 0.743\n",
      "Epoch: 37, Loss: 0.0171, Train accuracy 0.782, Test accuracy 0.736\n",
      "Epoch: 38, Loss: 0.0165, Train accuracy 0.786, Test accuracy 0.726\n",
      "Epoch: 39, Loss: 0.0158, Train accuracy 0.785, Test accuracy 0.745\n",
      "Epoch: 40, Loss: 0.0153, Train accuracy 0.786, Test accuracy 0.732\n",
      "Epoch: 41, Loss: 0.0147, Train accuracy 0.791, Test accuracy 0.732\n",
      "Epoch: 42, Loss: 0.0141, Train accuracy 0.794, Test accuracy 0.747\n",
      "Epoch: 43, Loss: 0.0137, Train accuracy 0.795, Test accuracy 0.745\n",
      "Epoch: 44, Loss: 0.0133, Train accuracy 0.797, Test accuracy 0.722\n",
      "Epoch: 45, Loss: 0.0129, Train accuracy 0.798, Test accuracy 0.735\n",
      "Epoch: 46, Loss: 0.0124, Train accuracy 0.801, Test accuracy 0.731\n",
      "Epoch: 47, Loss: 0.0121, Train accuracy 0.802, Test accuracy 0.732\n",
      "Epoch: 48, Loss: 0.0117, Train accuracy 0.804, Test accuracy 0.748\n",
      "Epoch: 49, Loss: 0.0113, Train accuracy 0.806, Test accuracy 0.746\n",
      "Epoch: 50, Loss: 0.0111, Train accuracy 0.809, Test accuracy 0.740\n",
      "Epoch: 51, Loss: 0.0108, Train accuracy 0.809, Test accuracy 0.738\n",
      "Epoch: 52, Loss: 0.0104, Train accuracy 0.811, Test accuracy 0.745\n",
      "Epoch: 53, Loss: 0.0101, Train accuracy 0.814, Test accuracy 0.734\n",
      "Epoch: 54, Loss: 0.0098, Train accuracy 0.817, Test accuracy 0.750\n",
      "Epoch: 55, Loss: 0.0096, Train accuracy 0.817, Test accuracy 0.742\n",
      "Epoch: 56, Loss: 0.0093, Train accuracy 0.819, Test accuracy 0.748\n",
      "Epoch: 57, Loss: 0.0091, Train accuracy 0.821, Test accuracy 0.728\n",
      "Epoch: 58, Loss: 0.0088, Train accuracy 0.822, Test accuracy 0.737\n",
      "Epoch: 59, Loss: 0.0087, Train accuracy 0.823, Test accuracy 0.733\n",
      "Epoch: 60, Loss: 0.0083, Train accuracy 0.827, Test accuracy 0.733\n",
      "Epoch: 61, Loss: 0.0082, Train accuracy 0.826, Test accuracy 0.737\n",
      "Epoch: 62, Loss: 0.0079, Train accuracy 0.829, Test accuracy 0.748\n",
      "Epoch: 63, Loss: 0.0079, Train accuracy 0.828, Test accuracy 0.736\n",
      "Epoch: 64, Loss: 0.0075, Train accuracy 0.832, Test accuracy 0.752\n",
      "Epoch: 65, Loss: 0.0075, Train accuracy 0.831, Test accuracy 0.745\n",
      "Epoch: 66, Loss: 0.0073, Train accuracy 0.834, Test accuracy 0.751\n",
      "Epoch: 67, Loss: 0.0071, Train accuracy 0.834, Test accuracy 0.757\n"
     ]
    },
    {
     "ename": "KeyboardInterrupt",
     "evalue": "",
     "output_type": "error",
     "traceback": [
      "\u001b[1;31m---------------------------------------------------------------------------\u001b[0m",
      "\u001b[1;31mKeyboardInterrupt\u001b[0m                         Traceback (most recent call last)",
      "\u001b[1;32m~\\AppData\\Local\\Temp\\ipykernel_20516\\4093600570.py\u001b[0m in \u001b[0;36m<module>\u001b[1;34m\u001b[0m\n\u001b[0;32m     40\u001b[0m \u001b[1;33m\u001b[0m\u001b[0m\n\u001b[0;32m     41\u001b[0m \u001b[0moptimizer\u001b[0m \u001b[1;33m=\u001b[0m \u001b[0mtorch\u001b[0m\u001b[1;33m.\u001b[0m\u001b[0moptim\u001b[0m\u001b[1;33m.\u001b[0m\u001b[0mAdam\u001b[0m\u001b[1;33m(\u001b[0m\u001b[0mnet\u001b[0m\u001b[1;33m.\u001b[0m\u001b[0mparameters\u001b[0m\u001b[1;33m(\u001b[0m\u001b[1;33m)\u001b[0m\u001b[1;33m,\u001b[0m \u001b[0mlr\u001b[0m\u001b[1;33m=\u001b[0m\u001b[1;36m0.01\u001b[0m\u001b[1;33m)\u001b[0m\u001b[1;33m\u001b[0m\u001b[1;33m\u001b[0m\u001b[0m\n\u001b[1;32m---> 42\u001b[1;33m \u001b[0mtrain\u001b[0m\u001b[1;33m(\u001b[0m\u001b[0mnet\u001b[0m\u001b[1;33m,\u001b[0m \u001b[0mtrain_iter\u001b[0m\u001b[1;33m,\u001b[0m\u001b[0mtest_iter\u001b[0m\u001b[1;33m,\u001b[0m \u001b[0mbatch_size\u001b[0m\u001b[1;33m,\u001b[0m \u001b[0moptimizer\u001b[0m\u001b[1;33m,\u001b[0m \u001b[0mdevice\u001b[0m\u001b[1;33m,\u001b[0m \u001b[1;36m100\u001b[0m\u001b[1;33m)\u001b[0m\u001b[1;33m\u001b[0m\u001b[1;33m\u001b[0m\u001b[0m\n\u001b[0m",
      "\u001b[1;32m~\\AppData\\Local\\Temp\\ipykernel_20516\\4093600570.py\u001b[0m in \u001b[0;36mtrain\u001b[1;34m(net, train_iter, test_iter, batch_size, optimizer, device, num_epochs)\u001b[0m\n\u001b[0;32m     12\u001b[0m                 \u001b[0mloss_sum\u001b[0m\u001b[1;33m,\u001b[0m \u001b[0mtrain_acc_sum\u001b[0m\u001b[1;33m,\u001b[0m \u001b[0mn_train\u001b[0m \u001b[1;33m=\u001b[0m \u001b[1;36m0.0\u001b[0m\u001b[1;33m,\u001b[0m \u001b[1;36m0.0\u001b[0m\u001b[1;33m,\u001b[0m \u001b[1;36m0\u001b[0m\u001b[1;33m\u001b[0m\u001b[1;33m\u001b[0m\u001b[0m\n\u001b[0;32m     13\u001b[0m                 \u001b[1;32mfor\u001b[0m \u001b[0mX\u001b[0m\u001b[1;33m,\u001b[0m \u001b[0my\u001b[0m \u001b[1;32min\u001b[0m \u001b[0mtrain_iter\u001b[0m\u001b[1;33m:\u001b[0m\u001b[1;33m\u001b[0m\u001b[1;33m\u001b[0m\u001b[0m\n\u001b[1;32m---> 14\u001b[1;33m                         \u001b[0mX\u001b[0m \u001b[1;33m=\u001b[0m \u001b[0mX\u001b[0m\u001b[1;33m.\u001b[0m\u001b[0mto\u001b[0m\u001b[1;33m(\u001b[0m\u001b[0mdevice\u001b[0m\u001b[1;33m)\u001b[0m\u001b[1;33m\u001b[0m\u001b[1;33m\u001b[0m\u001b[0m\n\u001b[0m\u001b[0;32m     15\u001b[0m                         \u001b[0my\u001b[0m \u001b[1;33m=\u001b[0m \u001b[0my\u001b[0m\u001b[1;33m.\u001b[0m\u001b[0mto\u001b[0m\u001b[1;33m(\u001b[0m\u001b[0mdevice\u001b[0m\u001b[1;33m)\u001b[0m\u001b[1;33m\u001b[0m\u001b[1;33m\u001b[0m\u001b[0m\n\u001b[0;32m     16\u001b[0m                         \u001b[0my_hat\u001b[0m \u001b[1;33m=\u001b[0m \u001b[0mnet\u001b[0m\u001b[1;33m(\u001b[0m\u001b[0mX\u001b[0m\u001b[1;33m)\u001b[0m\u001b[1;33m\u001b[0m\u001b[1;33m\u001b[0m\u001b[0m\n",
      "\u001b[1;31mKeyboardInterrupt\u001b[0m: "
     ]
    }
   ],
   "source": [
    "# train the resnet 18\n",
    "train_acc_all = []\n",
    "test_acc_all = []\n",
    "loss_all = []\n",
    "def train(net, train_iter,test_iter, batch_size, optimizer, device, num_epochs):\n",
    "\tnet = net.to(device)\n",
    "\tprint(\"The training device is: \", device)\n",
    "\tprint(\"Model: resnet18\")\n",
    "\tcriterion = nn.CrossEntropyLoss()\n",
    "\tbatch_count = 0 \n",
    "\tfor epoch in range(num_epochs):\n",
    "\t\tloss_sum, train_acc_sum, n_train = 0.0, 0.0, 0\n",
    "\t\tfor X, y in train_iter: \n",
    "\t\t\tX = X.to(device) \n",
    "\t\t\ty = y.to(device)\n",
    "\t\t\ty_hat = net(X) \n",
    "\t\t\tloss = criterion(y_hat, y)\n",
    "\t\t\toptimizer.zero_grad()\n",
    "\t\t\tloss.backward() \n",
    "\t\t\toptimizer.step() \n",
    "\t\t\tloss_sum += loss.cpu().item() \n",
    "\t\t\ttrain_acc_sum += (y_hat.argmax(dim=1) == y).sum().cpu().item()\n",
    "\t\t\tn_train += y.shape[0] \n",
    "\t\t\tbatch_count += 1\n",
    "\t\t\t# print(batch_count)\n",
    "\t\ttest_acc_sum, n_test = 0.0, 0\n",
    "\t\twith torch.no_grad():\n",
    "\t\t\tfor X, y in test_iter:\n",
    "\t\t\t\ttest_acc_sum += (net(X.to(device)).argmax(dim=1) == y.to(device)).float().sum().cpu().item()\n",
    "\t\t\t\tnet.train()\n",
    "\t\t\t\tn_test += y.shape[0]\n",
    "\t\ttrain_acc_total = train_acc_sum / n_train\n",
    "\t\ttest_acc_total = test_acc_sum / n_test\n",
    "\t\tloss_total = loss_sum / batch_count\n",
    "\t\tprint('Epoch: %d, Loss: %.4f, Train accuracy %.3f, Test accuracy %.3f'\n",
    "\t\t\t\t% (epoch + 1, loss_total, train_acc_total, test_acc_total))\n",
    "\t\ttrain_acc_all.append(train_acc_total)\n",
    "\t\ttest_acc_all.append(test_acc_total)\n",
    "\t\tloss_all.append(loss_total)\n",
    "\n",
    "optimizer = torch.optim.Adam(net.parameters(), lr=0.01)\n",
    "train(net, train_iter,test_iter, batch_size, optimizer, device, 100)"
   ]
  },
  {
   "cell_type": "code",
   "execution_count": null,
   "metadata": {},
   "outputs": [],
   "source": [
    "torch.save(net.state_dict(), \"project_resnet18_4.pth\")"
   ]
  },
  {
   "cell_type": "code",
   "execution_count": null,
   "metadata": {},
   "outputs": [
    {
     "data": {
      "image/png": "[encoded data removed]",
      "text/plain": [
       "<Figure size 1296x864 with 1 Axes>"
      ]
     },
     "metadata": {
      "needs_background": "light"
     },
     "output_type": "display_data"
    }
   ],
   "source": [
    "import numpy as np\n",
    "import matplotlib.pyplot as plt\n",
    "\n",
    "x = np.linspace(1, 100, 100)\n",
    "plt.figure(figsize=(18,12))\n",
    "plt.plot(x, train_acc_all,color = 'r')\n",
    "plt.plot(x, test_acc_all, color = 'b')\n",
    "plt.title('Accuracy')\n",
    "plt.legend(['Train','Test'])\n",
    "plt.xlabel('Epoch')\n",
    "plt.ylabel('accuracy')\n",
    "plt.savefig('./e100acc_1.jpg')\n",
    "plt.show()"
   ]
  },
  {
   "cell_type": "code",
   "execution_count": null,
   "metadata": {},
   "outputs": [
    {
     "data": {
      "image/png": "[encoded data removed]",
      "text/plain": [
       "<Figure size 1296x864 with 1 Axes>"
      ]
     },
     "metadata": {
      "needs_background": "light"
     },
     "output_type": "display_data"
    }
   ],
   "source": [
    "x = np.linspace(1, 100, 100)\n",
    "plt.figure(figsize=(18,12))\n",
    "plt.plot(x, loss_all,color = 'r')\n",
    "plt.title('Loss')\n",
    "plt.legend(['Loss'])\n",
    "plt.xlabel('Epoch')\n",
    "plt.ylabel('loss')\n",
    "plt.savefig('./e100loss_1.jpg')\n",
    "plt.show()"
   ]
  }
 ],
 "metadata": {
  "kernelspec": {
   "display_name": "Python 3.7.4 64-bit",
   "language": "python",
   "name": "python3"
  },
  "language_info": {
   "codemirror_mode": {
    "name": "ipython",
    "version": 3
   },
   "file_extension": ".py",
   "mimetype": "text/x-python",
   "name": "python",
   "nbconvert_exporter": "python",
   "pygments_lexer": "ipython3",
   "version": "3.7.4"
  },
  "orig_nbformat": 4,
  "vscode": {
   "interpreter": {
    "hash": "a0ec13e2e209f02511721f2c7019c73d866fe8555e00b8ba229ada45795ea18b"
   }
  }
 },
 "nbformat": 4,
 "nbformat_minor": 2
}
